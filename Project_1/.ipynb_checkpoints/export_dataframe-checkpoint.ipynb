{
 "cells": [
  {
   "cell_type": "code",
   "execution_count": 10,
   "metadata": {},
   "outputs": [],
   "source": [
    "# Bible text(3-1)\n",
    "from nltk.tokenize import word_tokenize\n",
    "from nltk import pos_tag\n",
    "\n",
    "with open(\"bible.txt\", 'r') as f:\n",
    "    text = f.read()"
   ]
  },
  {
   "cell_type": "code",
   "execution_count": 1,
   "metadata": {},
   "outputs": [],
   "source": [
    "# external text(3-2) \n",
    "from nltk.tokenize import word_tokenize\n",
    "from nltk import pos_tag\n",
    "\n",
    "with open(\"war-and-peace.txt\", 'r') as f:\n",
    "    text = f.read()"
   ]
  },
  {
   "cell_type": "code",
   "execution_count": 2,
   "metadata": {},
   "outputs": [],
   "source": [
    "# 특수문자 제거(. , ? ! ; : 's)\n",
    "for c in ['.', ',', '?', '!', ';', ':', '\\'s']:\n",
    "    text = text.replace(c, '')\n",
    "# 소문자로 변환\n",
    "text = text.lower()\n",
    "\n",
    "tokenized_words = word_tokenize(text)  # 다른 tokenizer 사용 가능\n",
    "total_word_count = len(tokenized_words)\n",
    "\n",
    "word_count_dict = {}"
   ]
  },
  {
   "cell_type": "code",
   "execution_count": 3,
   "metadata": {},
   "outputs": [],
   "source": [
    "for word in tokenized_words:\n",
    "    if word in word_count_dict:\n",
    "        word_count_dict[word] += 1\n",
    "    else:\n",
    "        word_count_dict[word] = 1"
   ]
  },
  {
   "cell_type": "code",
   "execution_count": 4,
   "metadata": {},
   "outputs": [],
   "source": [
    "import operator\n",
    "\n",
    "word_frequency_list = sorted(word_count_dict.items(), key=operator.itemgetter(1), reverse=True)\n",
    "# print(word_frequency_list)\n",
    "\n",
    "\n",
    "word_rank_list = []"
   ]
  },
  {
   "cell_type": "code",
   "execution_count": 5,
   "metadata": {},
   "outputs": [],
   "source": [
    "for word in word_frequency_list:\n",
    "    word_rank_list.append(word[0])"
   ]
  },
  {
   "cell_type": "code",
   "execution_count": 6,
   "metadata": {},
   "outputs": [],
   "source": [
    "x = []\n",
    "y = []\n",
    "z = []\n",
    "w = []\n",
    "p = []\n",
    "for i in range(len(word_count_dict)):\n",
    "    # TODO - word, freq에 알맞은 값 지정\n",
    "    word = word_rank_list[i]\n",
    "    pos = pos_tag(word)[0][1]\n",
    "    freq = word_count_dict[word]\n",
    "    ocur_prob = freq / total_word_count\n",
    "    \n",
    "    if freq == word_count_dict[word_rank_list[i-1]]:\n",
    "        pass\n",
    "    else:\n",
    "        rank = i + 1\n",
    "        w.append(word)\n",
    "        p.append(pos)\n",
    "        x.append(rank)\n",
    "        y.append(rank * ocur_prob)\n",
    "        z.append(freq)\n",
    "        "
   ]
  },
  {
   "cell_type": "code",
   "execution_count": 7,
   "metadata": {},
   "outputs": [],
   "source": [
    "import pandas as pd\n",
    "df = pd.DataFrame({'pos':p,'word':w ,'rank':x, 'rank*prob':y, 'freq':z})"
   ]
  },
  {
   "cell_type": "code",
   "execution_count": 14,
   "metadata": {},
   "outputs": [],
   "source": [
    "df.to_csv('zipf.csv')"
   ]
  },
  {
   "cell_type": "code",
   "execution_count": 8,
   "metadata": {},
   "outputs": [],
   "source": [
    "df.to_csv('zipf_ext.csv')"
   ]
  }
 ],
 "metadata": {
  "kernelspec": {
   "display_name": "Python 3",
   "language": "python",
   "name": "python3"
  },
  "language_info": {
   "codemirror_mode": {
    "name": "ipython",
    "version": 3
   },
   "file_extension": ".py",
   "mimetype": "text/x-python",
   "name": "python",
   "nbconvert_exporter": "python",
   "pygments_lexer": "ipython3",
   "version": "3.6.5"
  }
 },
 "nbformat": 4,
 "nbformat_minor": 2
}
